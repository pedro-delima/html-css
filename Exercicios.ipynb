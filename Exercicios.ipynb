{
  "nbformat": 4,
  "nbformat_minor": 0,
  "metadata": {
    "colab": {
      "provenance": [],
      "authorship_tag": "ABX9TyPeDAPObeJCCxvKaHnsqmxx",
      "include_colab_link": true
    },
    "kernelspec": {
      "name": "python3",
      "display_name": "Python 3"
    },
    "language_info": {
      "name": "python"
    }
  },
  "cells": [
    {
      "cell_type": "markdown",
      "metadata": {
        "id": "view-in-github",
        "colab_type": "text"
      },
      "source": [
        "<a href=\"https://colab.research.google.com/github/pedro-delima/html-css/blob/main/Exercicios.ipynb\" target=\"_parent\"><img src=\"https://colab.research.google.com/assets/colab-badge.svg\" alt=\"Open In Colab\"/></a>"
      ]
    },
    {
      "cell_type": "code",
      "execution_count": 1,
      "metadata": {
        "colab": {
          "base_uri": "https://localhost:8080/"
        },
        "id": "Nb8ob4dMMiCk",
        "outputId": "db52cf77-526a-448a-ea51-2762898f6c30"
      },
      "outputs": [
        {
          "output_type": "stream",
          "name": "stdout",
          "text": [
            "Ola, mundo1\n"
          ]
        }
      ],
      "source": [
        "print('Ola, mundo1')"
      ]
    },
    {
      "cell_type": "code",
      "source": [
        "print(\"Bem vindo ao programa de boas vindas!\")\n",
        "nome = input('Digite seu nome:')\n",
        "print(f\"Olá, {nome}\")"
      ],
      "metadata": {
        "colab": {
          "base_uri": "https://localhost:8080/"
        },
        "id": "1wufYJQHMy3r",
        "outputId": "3363f325-abba-4ec2-fefe-7ee733e4bf05"
      },
      "execution_count": 2,
      "outputs": [
        {
          "output_type": "stream",
          "name": "stdout",
          "text": [
            "Bem vindo ao programa de boas vindas!\n",
            "Digite seu nome:Pedro\n",
            "Olá, Pedro\n"
          ]
        }
      ]
    },
    {
      "cell_type": "code",
      "source": [
        "print(\"bem vindo ao programa de Nome e Salário do funcionário\")\n",
        "nome = input(\"Digite o nome do funcionário: \")\n",
        "salario = float(input(\"Informe o salário do funcionário: \"))\n",
        "print(f\"O funcionário {nome} tem o salário de {salario} \")"
      ],
      "metadata": {
        "colab": {
          "base_uri": "https://localhost:8080/"
        },
        "id": "Z403Vue4NS_X",
        "outputId": "d17ab12b-2dfe-44d8-f29e-c72f39d498f6"
      },
      "execution_count": 3,
      "outputs": [
        {
          "output_type": "stream",
          "name": "stdout",
          "text": [
            "bem vindo ao programa de Nome e Salário do funcionário\n",
            "Digite o nome do funcionário: Wanderley\n",
            "Informe o salário do funcionário: 1252\n",
            "O funcionário Wanderley tem o salário de 1252.0 \n"
          ]
        }
      ]
    },
    {
      "cell_type": "code",
      "source": [
        "print(\"Bem vindo ao programa da soma de dois numeros\")\n",
        "n1 = int(input(\"Digite o primeiro numero\"))\n",
        "n2 = int(input(\"Digite o segundo numero\"))\n",
        "print(f\"A soma entre {n1} e {n2} é {n1 + n2}\")"
      ],
      "metadata": {
        "colab": {
          "base_uri": "https://localhost:8080/"
        },
        "id": "oPmqIaANRKwP",
        "outputId": "70da52fc-0b41-4ad5-d6b9-9d755e5cb31e"
      },
      "execution_count": 4,
      "outputs": [
        {
          "output_type": "stream",
          "name": "stdout",
          "text": [
            "Bem vindo ao programa da soma de dois numeros\n",
            "Digite o primeiro numero7\n",
            "Digite o segundo numero7\n",
            "A soma entre 7 e 7 é 14\n"
          ]
        }
      ]
    },
    {
      "cell_type": "code",
      "source": [
        "print(\"Bem vindo ao Programa de Cálculo da média\")\n",
        "N1 = int(input('Digite sua primeira nota'))\n",
        "N2 = int(input('Digite sua segunda nota'))\n",
        "print(f'A media entre a nota {N1} e nota {N2} é {(N1 + N2) / 2}')"
      ],
      "metadata": {
        "colab": {
          "base_uri": "https://localhost:8080/"
        },
        "id": "-ct2Aj0qR-81",
        "outputId": "cd5c1e91-b725-41a2-c7dc-61d02c813235"
      },
      "execution_count": 6,
      "outputs": [
        {
          "output_type": "stream",
          "name": "stdout",
          "text": [
            "Bem vindo ao Programa de Cálculo da média\n",
            "Digite sua primeira nota7\n",
            "Digite sua segunda nota2\n",
            "A media entre a nota 7 e nota 2 é 4.5\n"
          ]
        }
      ]
    },
    {
      "cell_type": "code",
      "source": [],
      "metadata": {
        "id": "veS_2DBwUFa7"
      },
      "execution_count": null,
      "outputs": []
    }
  ]
}